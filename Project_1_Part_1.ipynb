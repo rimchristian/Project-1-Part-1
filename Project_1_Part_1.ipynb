{
  "nbformat": 4,
  "nbformat_minor": 0,
  "metadata": {
    "colab": {
      "provenance": [],
      "authorship_tag": "ABX9TyMgJ4KwTZVdI7VqWrX4V5xl",
      "include_colab_link": true
    },
    "kernelspec": {
      "name": "python3",
      "display_name": "Python 3"
    },
    "language_info": {
      "name": "python"
    }
  },
  "cells": [
    {
      "cell_type": "markdown",
      "metadata": {
        "id": "view-in-github",
        "colab_type": "text"
      },
      "source": [
        "<a href=\"https://colab.research.google.com/github/rimchristian/Project-1-Part-1/blob/main/Project_1_Part_1.ipynb\" target=\"_parent\"><img src=\"https://colab.research.google.com/assets/colab-badge.svg\" alt=\"Open In Colab\"/></a>"
      ]
    },
    {
      "cell_type": "markdown",
      "source": [
        "# Project 1 - Part 1\n",
        "- Christian Rim"
      ],
      "metadata": {
        "id": "Ha-WNvHr24_j"
      }
    },
    {
      "cell_type": "code",
      "execution_count": null,
      "metadata": {
        "id": "__34Ac-n2Zk4"
      },
      "outputs": [],
      "source": []
    },
    {
      "cell_type": "markdown",
      "source": [
        "## **Loading Data** "
      ],
      "metadata": {
        "id": "PhZ3uwKP3E2p"
      }
    },
    {
      "cell_type": "code",
      "source": [],
      "metadata": {
        "id": "UAGrMN1s32dA"
      },
      "execution_count": null,
      "outputs": []
    },
    {
      "cell_type": "markdown",
      "source": [
        "## **Data Cleaning**"
      ],
      "metadata": {
        "id": "oRAzhHe3321J"
      }
    },
    {
      "cell_type": "code",
      "source": [],
      "metadata": {
        "id": "m3mRw8tU3-Gx"
      },
      "execution_count": null,
      "outputs": []
    },
    {
      "cell_type": "markdown",
      "source": [
        "## **Exploratory Visuals**"
      ],
      "metadata": {
        "id": "ir6At6d-3-aI"
      }
    },
    {
      "cell_type": "code",
      "source": [],
      "metadata": {
        "id": "Bm7oPUqZ4De4"
      },
      "execution_count": null,
      "outputs": []
    },
    {
      "cell_type": "markdown",
      "source": [
        "## **Explanatory Visuals**"
      ],
      "metadata": {
        "id": "_80tz5fm4Fyq"
      }
    }
  ]
}